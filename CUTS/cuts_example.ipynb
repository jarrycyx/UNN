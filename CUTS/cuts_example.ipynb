{
 "cells": [
  {
   "cell_type": "code",
   "execution_count": 1,
   "metadata": {},
   "outputs": [
    {
     "ename": "ModuleNotFoundError",
     "evalue": "No module named 'numpy'",
     "output_type": "error",
     "traceback": [
      "\u001b[0;31m---------------------------------------------------------------------------\u001b[0m",
      "\u001b[0;31mModuleNotFoundError\u001b[0m                       Traceback (most recent call last)",
      "Cell \u001b[0;32mIn[1], line 4\u001b[0m\n\u001b[1;32m      1\u001b[0m \u001b[39mimport\u001b[39;00m \u001b[39mos\u001b[39;00m\n\u001b[1;32m      2\u001b[0m \u001b[39mfrom\u001b[39;00m \u001b[39mos\u001b[39;00m\u001b[39m.\u001b[39;00m\u001b[39mpath\u001b[39;00m \u001b[39mimport\u001b[39;00m join \u001b[39mas\u001b[39;00m opj\n\u001b[0;32m----> 4\u001b[0m \u001b[39mimport\u001b[39;00m \u001b[39mnumpy\u001b[39;00m \u001b[39mas\u001b[39;00m \u001b[39mnp\u001b[39;00m\n\u001b[1;32m      5\u001b[0m \u001b[39mfrom\u001b[39;00m \u001b[39momegaconf\u001b[39;00m \u001b[39mimport\u001b[39;00m OmegaConf\n\u001b[1;32m      6\u001b[0m \u001b[39mfrom\u001b[39;00m \u001b[39mcopy\u001b[39;00m \u001b[39mimport\u001b[39;00m deepcopy\n",
      "\u001b[0;31mModuleNotFoundError\u001b[0m: No module named 'numpy'"
     ]
    }
   ],
   "source": [
    "import os\n",
    "from os.path import join as opj\n",
    "\n",
    "import numpy as np\n",
    "from omegaconf import OmegaConf\n",
    "from copy import deepcopy\n",
    "import torch\n",
    "from datetime import datetime\n",
    "from einops import rearrange\n",
    "from matplotlib import pyplot as plt\n",
    "\n",
    "\n",
    "from cuts_main import CUTS\n",
    "from utils.cuts_parts import *\n",
    "from utils.gumbel_softmax import gumbel_softmax\n",
    "from utils.misc import plot_causal_matrix, reproduc, prepross_data\n",
    "from utils.data_interpolate import interp_multivar_data\n",
    "from utils.load_data import simulate_var_from_links\n",
    "from utils.logger import MyLogger\n"
   ]
  },
  {
   "cell_type": "code",
   "execution_count": null,
   "metadata": {},
   "outputs": [
    {
     "ename": "",
     "evalue": "",
     "output_type": "error",
     "traceback": [
      "\u001b[1;31mRunning cells with 'py38' requires ipykernel package.\n",
      "\u001b[1;31mRun the following command to install 'ipykernel' into the Python environment. \n",
      "\u001b[1;31mCommand: 'conda install -n py38 ipykernel --update-deps --force-reinstall'"
     ]
    }
   ],
   "source": [
    "opt = OmegaConf.load(\"./cuts_example.yaml\")\n",
    "device = \"cuda\"\n",
    "\n",
    "reproduc(**opt.reproduc)\n",
    "timestamp = datetime.now().strftime(\"_%Y_%m%d_%H%M%S_%f\")\n",
    "opt.task_name += timestamp\n",
    "proj_path = opj(opt.dir_name, opt.task_name)\n",
    "log = MyLogger(log_dir=proj_path, **opt.log)\n",
    "log.log_opt(opt)"
   ]
  },
  {
   "cell_type": "code",
   "execution_count": null,
   "metadata": {},
   "outputs": [
    {
     "ename": "",
     "evalue": "",
     "output_type": "error",
     "traceback": [
      "\u001b[1;31mRunning cells with 'py38' requires ipykernel package.\n",
      "\u001b[1;31mRun the following command to install 'ipykernel' into the Python environment. \n",
      "\u001b[1;31mCommand: 'conda install -n py38 ipykernel --update-deps --force-reinstall'"
     ]
    }
   ],
   "source": [
    "data, true_cm = simulate_var_from_links(**opt.data.param)\n",
    "\n",
    "\n",
    "T, N, D = data.shape\n",
    "print(\"Data shape: \", data.shape)\n",
    "data = prepross_data(data)\n",
    "\n",
    "mask = np.ones_like(data)\n",
    "np.random.seed(opt.data.pre_sample.random_missing.seed)\n",
    "p = opt.data.pre_sample.random_missing.missing_prob\n",
    "missing_var = opt.data.pre_sample.random_missing.missing_var\n",
    "if isinstance(missing_var, str) and missing_var==\"all\":\n",
    "    mask = np.random.choice([0,1], size=mask.shape, p=[p,1-p])\n",
    "else:\n",
    "    for var_i in missing_var:\n",
    "        mask[:,var_i] = np.random.choice([0,1], size=mask[:,var_i].shape, p=[p,1-p])\n",
    "print(f\"Generated random missing with missing_prob: {p:.4f}\")"
   ]
  },
  {
   "cell_type": "code",
   "execution_count": null,
   "metadata": {},
   "outputs": [
    {
     "ename": "",
     "evalue": "",
     "output_type": "error",
     "traceback": [
      "\u001b[1;31mRunning cells with 'py38' requires ipykernel package.\n",
      "\u001b[1;31mRun the following command to install 'ipykernel' into the Python environment. \n",
      "\u001b[1;31mCommand: 'conda install -n py38 ipykernel --update-deps --force-reinstall'"
     ]
    }
   ],
   "source": [
    "sampled_data = data * mask\n",
    "interp_data = interp_multivar_data(sampled_data, mask, interp=opt.data.init_fill)"
   ]
  },
  {
   "cell_type": "code",
   "execution_count": null,
   "metadata": {},
   "outputs": [
    {
     "ename": "",
     "evalue": "",
     "output_type": "error",
     "traceback": [
      "\u001b[1;31mRunning cells with 'py38' requires ipykernel package.\n",
      "\u001b[1;31mRun the following command to install 'ipykernel' into the Python environment. \n",
      "\u001b[1;31mCommand: 'conda install -n py38 ipykernel --update-deps --force-reinstall'"
     ]
    }
   ],
   "source": [
    "fig = plt.figure(figsize=[10,10])\n",
    "plt.plot(np.arange(0, 100, 1), data[:100,1,0], label=\"original\", alpha=0.5)\n",
    "# plt.plot(np.arange(0, 100, 1), interp_data[:100,1,0], label=\"interp\", c=\"red\")\n",
    "plt.scatter(np.argwhere(mask[:100,1,0]), data[np.argwhere(mask[:100,1,0]),1,0], label=\"sampled points\")\n",
    "plt.legend()\n",
    "plt.show()"
   ]
  },
  {
   "cell_type": "code",
   "execution_count": null,
   "metadata": {},
   "outputs": [
    {
     "ename": "",
     "evalue": "",
     "output_type": "error",
     "traceback": [
      "\u001b[1;31mRunning cells with 'py38' requires ipykernel package.\n",
      "\u001b[1;31mRun the following command to install 'ipykernel' into the Python environment. \n",
      "\u001b[1;31mCommand: 'conda install -n py38 ipykernel --update-deps --force-reinstall'"
     ]
    }
   ],
   "source": [
    "sub_cg = plot_causal_matrix(true_cm, figsize=[4, 3], vmin=0, vmax=1)\n",
    "plt.show()"
   ]
  },
  {
   "cell_type": "code",
   "execution_count": null,
   "metadata": {},
   "outputs": [
    {
     "ename": "",
     "evalue": "",
     "output_type": "error",
     "traceback": [
      "\u001b[1;31mRunning cells with 'py38' requires ipykernel package.\n",
      "\u001b[1;31mRun the following command to install 'ipykernel' into the Python environment. \n",
      "\u001b[1;31mCommand: 'conda install -n py38 ipykernel --update-deps --force-reinstall'"
     ]
    }
   ],
   "source": [
    "multicad = CUTS(opt.cuts, log, device=device)\n",
    "multicad.train(interp_data, mask, data, true_cm)\n"
   ]
  },
  {
   "cell_type": "code",
   "execution_count": null,
   "metadata": {},
   "outputs": [
    {
     "ename": "",
     "evalue": "",
     "output_type": "error",
     "traceback": [
      "\u001b[1;31mRunning cells with 'py38' requires ipykernel package.\n",
      "\u001b[1;31mRun the following command to install 'ipykernel' into the Python environment. \n",
      "\u001b[1;31mCommand: 'conda install -n py38 ipykernel --update-deps --force-reinstall'"
     ]
    }
   ],
   "source": [
    "time_prob_mat = torch.sigmoid(multicad.graph).detach().cpu().numpy()\n",
    "print(np.max(time_prob_mat, axis=2))\n",
    "causal_graph = (np.max(time_prob_mat, axis=2) > 0.5)\n",
    "sub_cg = plot_causal_matrix(causal_graph, figsize=[4, 3], vmin=0, vmax=1)\n",
    "plt.show()"
   ]
  },
  {
   "cell_type": "code",
   "execution_count": null,
   "metadata": {},
   "outputs": [
    {
     "ename": "",
     "evalue": "",
     "output_type": "error",
     "traceback": [
      "\u001b[1;31mRunning cells with 'py38' requires ipykernel package.\n",
      "\u001b[1;31mRun the following command to install 'ipykernel' into the Python environment. \n",
      "\u001b[1;31mCommand: 'conda install -n py38 ipykernel --update-deps --force-reinstall'"
     ]
    }
   ],
   "source": []
  }
 ],
 "metadata": {
  "kernelspec": {
   "display_name": "py38",
   "language": "python",
   "name": "python3"
  },
  "language_info": {
   "codemirror_mode": {
    "name": "ipython",
    "version": 3
   },
   "file_extension": ".py",
   "mimetype": "text/x-python",
   "name": "python",
   "nbconvert_exporter": "python",
   "pygments_lexer": "ipython3",
   "version": "3.10.4"
  },
  "orig_nbformat": 4,
  "vscode": {
   "interpreter": {
    "hash": "ed346f90f449b5c241871454c13fbf8f078f2e3c6fbfb27cca0afb524791967d"
   }
  }
 },
 "nbformat": 4,
 "nbformat_minor": 2
}
